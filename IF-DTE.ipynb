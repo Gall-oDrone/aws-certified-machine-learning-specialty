{
 "cells": [
  {
   "cell_type": "code",
   "execution_count": 2,
   "id": "82f017d4-33bc-4037-92fc-bb844f52668e",
   "metadata": {
    "execution": {
     "iopub.execute_input": "2024-07-30T00:40:53.940116Z",
     "iopub.status.busy": "2024-07-30T00:40:53.939659Z",
     "iopub.status.idle": "2024-07-30T00:41:03.289827Z",
     "shell.execute_reply": "2024-07-30T00:41:03.289185Z",
     "shell.execute_reply.started": "2024-07-30T00:40:53.940085Z"
    },
    "tags": []
   },
   "outputs": [
    {
     "data": {
      "application/vnd.jupyter.widget-view+json": {
       "model_id": "f6083640de4c4f10813d9e1343003d7c",
       "version_major": 2,
       "version_minor": 0
      },
      "text/plain": [
       "VBox()"
      ]
     },
     "metadata": {},
     "output_type": "display_data"
    },
    {
     "data": {
      "application/vnd.jupyter.widget-view+json": {
       "model_id": "",
       "version_major": 2,
       "version_minor": 0
      },
      "text/plain": [
       "FloatProgress(value=0.0, bar_style='info', description='Progress:', layout=Layout(height='25px', width='50%'),…"
      ]
     },
     "metadata": {},
     "output_type": "display_data"
    },
    {
     "name": "stdout",
     "output_type": "stream",
     "text": [
      "+--------------------+--------------------+--------------------+--------------------+--------------------+--------------------+--------------------+--------------------+\n",
      "|                  id|              source|            category|            headline|                href|             summary|             content|            datetime|\n",
      "+--------------------+--------------------+--------------------+--------------------+--------------------+--------------------+--------------------+--------------------+\n",
      "|14506777316744071...|            CoinDesk|            Business|Bitcoin Breaks to...|https://finance.y...|The price action ...|The price of bitc...|                null|\n",
      "|      At 11:45 am ET| bitcoin was chan...|                 300| lower by 1% over...|000. The broader ...|                null|                null|                null|\n",
      "|                 May|              though| has been strong ...| which is now hig...|000 level. That's...| fueled by a 31% ...|                null|                null|\n",
      "|Macro conditions ...|                null|                null|                null|                null|                null|                null|                null|\n",
      "|This week's muted...|             000-$69|000 range – came ...| U.S. stocks amon...| the Nasdaq is lo...| while the S&P 50...|                null|                null|\n",
      "|U.S. economic dat...| with the April C...| in line with exp...| with the 10-year...|                null|                null|                null|                null|\n",
      "|June begins Satur...| and with those i...| might prove to b...|000 set in March....|             however| could mean a ret...|                null|                null|\n",
      "|      View Comments\"|2024-05-31T15:47:...|                null|                null|                null|                null|                null|                null|\n",
      "|91528743924387766...|       CoinMarketCap|            Business|Bitcoin Struggles...|https://finance.y...|Bitcoin (BTC) is ...|Bitcoin Struggles...|                null|\n",
      "|Bitcoin (BTC) is ...|000 mark since br...| and has traded b...|430 as traders br...| grinding against...|000 have undersco...| who have found i...|                null|\n",
      "|Popular trader Sk...|                 000| bulls have strug...|000. Skew also po...|\"\" as indicated b...| suggesting that ...|000. He added tha...| with limited spo...|\n",
      "|      Another trader|               Roman| observed declini...|\"\" Roman shared w...|                null|                null|                null|                null|\n",
      "|The upcoming U.S....| both of which ha...|                null|                null|                null|                null|                null|                null|\n",
      "|      View Comments\"|2024-05-31T04:53:...|                null|                null|                null|                null|                null|                null|\n",
      "|17645796751314710...|            CoinDesk|            Business|Bitcoin's Short T...|https://finance.y...|The 50-day simple...|Technical indicat...|                null|\n",
      "|The 50-day simple...|                870.|                null|                null|                null|                null|                null|                null|\n",
      "|Technical indicat...| with crucial sup...|                000.|                null|                null|                null|                null|                null|\n",
      "|The cryptocurrenc...| which compares t...| has declined bel...| indicating renew...|                null|                null|                null|                null|\n",
      "|           Similarly| the moving avera...| which employs th...| has turned negat...| with crossovers ...|                null|                null|                null|\n",
      "|Both indicators s...| which is consist...|                null|                null|                null|                null|                null|                null|\n",
      "+--------------------+--------------------+--------------------+--------------------+--------------------+--------------------+--------------------+--------------------+\n",
      "only showing top 20 rows"
     ]
    }
   ],
   "source": [
    "rawdata = spark.read.csv('s3://test-financial-news-bucket/news/crypto/2024-05-31_full_record.csv',inferSchema=True,header=True)\n",
    "rawdata.show()"
   ]
  },
  {
   "cell_type": "code",
   "execution_count": 4,
   "id": "c01ea51d-c655-4aab-a271-423219df820e",
   "metadata": {
    "execution": {
     "iopub.execute_input": "2024-07-30T00:44:17.251308Z",
     "iopub.status.busy": "2024-07-30T00:44:17.250863Z",
     "iopub.status.idle": "2024-07-30T00:44:18.216448Z",
     "shell.execute_reply": "2024-07-30T00:44:18.215771Z",
     "shell.execute_reply.started": "2024-07-30T00:44:17.251278Z"
    },
    "tags": []
   },
   "outputs": [
    {
     "data": {
      "application/vnd.jupyter.widget-view+json": {
       "model_id": "f724bea50a3a4154b3821255850c8fe1",
       "version_major": 2,
       "version_minor": 0
      },
      "text/plain": [
       "VBox()"
      ]
     },
     "metadata": {},
     "output_type": "display_data"
    },
    {
     "data": {
      "application/vnd.jupyter.widget-view+json": {
       "model_id": "",
       "version_major": 2,
       "version_minor": 0
      },
      "text/plain": [
       "FloatProgress(value=0.0, bar_style='info', description='Progress:', layout=Layout(height='25px', width='50%'),…"
      ]
     },
     "metadata": {},
     "output_type": "display_data"
    },
    {
     "name": "stdout",
     "output_type": "stream",
     "text": [
      "+--------------------+--------------------+--------------------+--------------------+--------------------+--------------------+--------------------+--------------------+\n",
      "|                  id|              source|            category|            headline|                href|             summary|             content|            datetime|\n",
      "+--------------------+--------------------+--------------------+--------------------+--------------------+--------------------+--------------------+--------------------+\n",
      "|14506777316744071...|            CoinDesk|            Business|Bitcoin Breaks to...|https://finance.y...|The price action ...|The price of bitc...|                null|\n",
      "|      At 11:45 am ET| bitcoin was chan...|                 300| lower by 1% over...|000. The broader ...|                null|                null|                null|\n",
      "|                 May|              though| has been strong ...| which is now hig...|000 level. That's...| fueled by a 31% ...|                null|                null|\n",
      "|Macro conditions ...|                null|                null|                null|                null|                null|                null|                null|\n",
      "|This week's muted...|             000-$69|000 range – came ...| U.S. stocks amon...| the Nasdaq is lo...| while the S&P 50...|                null|                null|\n",
      "|U.S. economic dat...| with the April C...| in line with exp...| with the 10-year...|                null|                null|                null|                null|\n",
      "|June begins Satur...| and with those i...| might prove to b...|000 set in March....|             however| could mean a ret...|                null|                null|\n",
      "|      View Comments\"|2024-05-31T15:47:...|                null|                null|                null|                null|                null|                null|\n",
      "|91528743924387766...|       CoinMarketCap|            Business|Bitcoin Struggles...|https://finance.y...|Bitcoin (BTC) is ...|Bitcoin Struggles...|                null|\n",
      "|Bitcoin (BTC) is ...|000 mark since br...| and has traded b...|430 as traders br...| grinding against...|000 have undersco...| who have found i...|                null|\n",
      "|Popular trader Sk...|                 000| bulls have strug...|000. Skew also po...|\"\" as indicated b...| suggesting that ...|000. He added tha...| with limited spo...|\n",
      "|      Another trader|               Roman| observed declini...|\"\" Roman shared w...|                null|                null|                null|                null|\n",
      "|The upcoming U.S....| both of which ha...|                null|                null|                null|                null|                null|                null|\n",
      "|      View Comments\"|2024-05-31T04:53:...|                null|                null|                null|                null|                null|                null|\n",
      "|17645796751314710...|            CoinDesk|            Business|Bitcoin's Short T...|https://finance.y...|The 50-day simple...|Technical indicat...|                null|\n",
      "|The 50-day simple...|                870.|                null|                null|                null|                null|                null|                null|\n",
      "|Technical indicat...| with crucial sup...|                000.|                null|                null|                null|                null|                null|\n",
      "|The cryptocurrenc...| which compares t...| has declined bel...| indicating renew...|                null|                null|                null|                null|\n",
      "|           Similarly| the moving avera...| which employs th...| has turned negat...| with crossovers ...|                null|                null|                null|\n",
      "|Both indicators s...| which is consist...|                null|                null|                null|                null|                null|                null|\n",
      "+--------------------+--------------------+--------------------+--------------------+--------------------+--------------------+--------------------+--------------------+\n",
      "only showing top 20 rows"
     ]
    }
   ],
   "source": [
    "articles = rawdata.toDF(\"id\",\"source\",\"category\",\"headline\",\"href\",\"summary\",\"content\",\"datetime\")\n",
    "articles.show()"
   ]
  },
  {
   "cell_type": "code",
   "execution_count": 7,
   "id": "788fecfc-4ce2-45fe-a88f-397a6b54d983",
   "metadata": {
    "execution": {
     "iopub.execute_input": "2024-07-30T00:46:37.483066Z",
     "iopub.status.busy": "2024-07-30T00:46:37.482645Z",
     "iopub.status.idle": "2024-07-30T00:46:38.970003Z",
     "shell.execute_reply": "2024-07-30T00:46:38.969351Z",
     "shell.execute_reply.started": "2024-07-30T00:46:37.483033Z"
    },
    "tags": []
   },
   "outputs": [
    {
     "data": {
      "application/vnd.jupyter.widget-view+json": {
       "model_id": "5f2384f3b658480cbd7bc119f6f13b69",
       "version_major": 2,
       "version_minor": 0
      },
      "text/plain": [
       "VBox()"
      ]
     },
     "metadata": {},
     "output_type": "display_data"
    },
    {
     "data": {
      "application/vnd.jupyter.widget-view+json": {
       "model_id": "",
       "version_major": 2,
       "version_minor": 0
      },
      "text/plain": [
       "FloatProgress(value=0.0, bar_style='info', description='Progress:', layout=Layout(height='25px', width='50%'),…"
      ]
     },
     "metadata": {},
     "output_type": "display_data"
    },
    {
     "name": "stdout",
     "output_type": "stream",
     "text": [
      "278"
     ]
    }
   ],
   "source": [
    "articles.filter(articles['content'].isNull()).count()"
   ]
  },
  {
   "cell_type": "code",
   "execution_count": 8,
   "id": "88190f1e-5da5-4bfe-aa17-428e41b37861",
   "metadata": {
    "execution": {
     "iopub.execute_input": "2024-07-30T00:47:55.357412Z",
     "iopub.status.busy": "2024-07-30T00:47:55.356986Z",
     "iopub.status.idle": "2024-07-30T00:47:56.297715Z",
     "shell.execute_reply": "2024-07-30T00:47:56.296972Z",
     "shell.execute_reply.started": "2024-07-30T00:47:55.357378Z"
    }
   },
   "outputs": [
    {
     "data": {
      "application/vnd.jupyter.widget-view+json": {
       "model_id": "2be40756180f435eb981811ff2bde975",
       "version_major": 2,
       "version_minor": 0
      },
      "text/plain": [
       "VBox()"
      ]
     },
     "metadata": {},
     "output_type": "display_data"
    },
    {
     "data": {
      "application/vnd.jupyter.widget-view+json": {
       "model_id": "",
       "version_major": 2,
       "version_minor": 0
      },
      "text/plain": [
       "FloatProgress(value=0.0, bar_style='info', description='Progress:', layout=Layout(height='25px', width='50%'),…"
      ]
     },
     "metadata": {},
     "output_type": "display_data"
    },
    {
     "name": "stdout",
     "output_type": "stream",
     "text": [
      "0"
     ]
    }
   ],
   "source": [
    "cleaned_articles = articles.filter(articles['content'].isNotNull())\n",
    "cleaned_articles.filter(cleaned_articles['content'].isNull()).count()"
   ]
  },
  {
   "cell_type": "code",
   "execution_count": 9,
   "id": "309266d0-57f3-4e34-816d-f049d00ce8d6",
   "metadata": {
    "execution": {
     "iopub.execute_input": "2024-07-30T00:49:09.594676Z",
     "iopub.status.busy": "2024-07-30T00:49:09.594233Z",
     "iopub.status.idle": "2024-07-30T00:49:10.557290Z",
     "shell.execute_reply": "2024-07-30T00:49:10.556547Z",
     "shell.execute_reply.started": "2024-07-30T00:49:09.594645Z"
    }
   },
   "outputs": [
    {
     "data": {
      "application/vnd.jupyter.widget-view+json": {
       "model_id": "be6bd9351ca74e72b264c3404360a18a",
       "version_major": 2,
       "version_minor": 0
      },
      "text/plain": [
       "VBox()"
      ]
     },
     "metadata": {},
     "output_type": "display_data"
    },
    {
     "data": {
      "application/vnd.jupyter.widget-view+json": {
       "model_id": "",
       "version_major": 2,
       "version_minor": 0
      },
      "text/plain": [
       "FloatProgress(value=0.0, bar_style='info', description='Progress:', layout=Layout(height='25px', width='50%'),…"
      ]
     },
     "metadata": {},
     "output_type": "display_data"
    }
   ],
   "source": [
    "from pyspark.ml.feature import HashingTF, IDF, Tokenizer\n",
    "\n",
    "tokenizer = Tokenizer(inputCol=\"content\", outputCol='words')\n",
    "wordsData = tokenizer.transform(cleaned_articles)"
   ]
  },
  {
   "cell_type": "code",
   "execution_count": 10,
   "id": "9e0878e3-e4b8-4c15-abd2-67f284846c43",
   "metadata": {
    "execution": {
     "iopub.execute_input": "2024-07-30T00:49:58.836935Z",
     "iopub.status.busy": "2024-07-30T00:49:58.836467Z",
     "iopub.status.idle": "2024-07-30T00:50:02.395601Z",
     "shell.execute_reply": "2024-07-30T00:50:02.394854Z",
     "shell.execute_reply.started": "2024-07-30T00:49:58.836906Z"
    }
   },
   "outputs": [
    {
     "data": {
      "application/vnd.jupyter.widget-view+json": {
       "model_id": "837521c5b5ba4782bb78ff4e4a69b685",
       "version_major": 2,
       "version_minor": 0
      },
      "text/plain": [
       "VBox()"
      ]
     },
     "metadata": {},
     "output_type": "display_data"
    },
    {
     "data": {
      "application/vnd.jupyter.widget-view+json": {
       "model_id": "",
       "version_major": 2,
       "version_minor": 0
      },
      "text/plain": [
       "FloatProgress(value=0.0, bar_style='info', description='Progress:', layout=Layout(height='25px', width='50%'),…"
      ]
     },
     "metadata": {},
     "output_type": "display_data"
    },
    {
     "name": "stdout",
     "output_type": "stream",
     "text": [
      "+--------------------+--------------------+--------------------+--------------------+--------------------+--------------------+--------------------+--------------------+--------------------+--------------------+\n",
      "|                  id|              source|            category|            headline|                href|             summary|             content|            datetime|               words|         rawFeatures|\n",
      "+--------------------+--------------------+--------------------+--------------------+--------------------+--------------------+--------------------+--------------------+--------------------+--------------------+\n",
      "|14506777316744071...|            CoinDesk|            Business|Bitcoin Breaks to...|https://finance.y...|The price action ...|The price of bitc...|                null|[the, price, of, ...|(20,[0,1,3,4,5,6,...|\n",
      "|91528743924387766...|       CoinMarketCap|            Business|Bitcoin Struggles...|https://finance.y...|Bitcoin (BTC) is ...|Bitcoin Struggles...|                null|[bitcoin, struggl...|(20,[4,7,8,11,12,...|\n",
      "|Bitcoin (BTC) is ...|000 mark since br...| and has traded b...|430 as traders br...| grinding against...|000 have undersco...| who have found i...|                null|[, who, have, fou...|(20,[1,5,6,8,10,1...|\n",
      "|Popular trader Sk...|                 000| bulls have strug...|000. Skew also po...|\"\" as indicated b...| suggesting that ...|000. He added tha...| with limited spo...|[000., he, added,...|(20,[0,3,4,6,9,11...|\n",
      "|17645796751314710...|            CoinDesk|            Business|Bitcoin's Short T...|https://finance.y...|The 50-day simple...|Technical indicat...|                null|[technical, indic...|(20,[0,2,4,6,10,1...|\n",
      "|21262589382166068...|             Reuters|            Business|Crypto 're-stakin...|https://finance.y...|More than $18 bil...|By Elizabeth Howc...|                null|[by, elizabeth, h...|(20,[1,13,19],[1....|\n",
      "|82161753679037556...|            CoinDesk|            Politics|Crypto Bettors La...|https://finance.y...|Gamblers have pla...|Crypto punters on...|                null|[crypto, punters,...|(20,[0,3,6,7,8,9,...|\n",
      "|33484450343124945...|       CoinMarketCap|            Business|Crypto Fraud and ...|https://finance.y...|Funds lost to cry...|Crypto Fraud and ...|                null|[crypto, fraud, a...|(20,[0,1,3,4,8,9,...|\n",
      "|27556917198641401...|             Fortune|            Politics|Donald Trump’s la...|https://finance.y...|Newly convicted f...|\"Newly convicted ...| Bloomberg report...|[\"newly, convicte...|(20,[0,1,2,3,4,5,...|\n",
      "|Dialogue between ...| with the Trump c...| according to Blo...|        a Trump ally| fellow entrepreneur| and failed 2024 ...| is a close frien...| the Wall Street ...|[, is, a, close, ...|(20,[0,1,3,4,5,7,...|\n",
      "|When Musk talks c...| people listen. O...| his posts on X h...| such when he sha...|              Marvin|     on his birthday| causing the pric...| according to Coi...|[, causing, the, ...|(20,[1,3,7,8,12,1...|\n",
      "|             However| the moment news ...| the price of the...|   trading at $11.41| according to Coi...|       shortly after| it soared to an ...| as of 7:30 p.m. ...|[, it, soared, to...|(20,[2,6,8,10,12,...|\n",
      "|22764438409254762...|            CoinDesk|            Business|First Mover Ameri...|https://finance.y...|The latest price ...|    In This Article:|                null|[in, this, article:]|(20,[0,3,13],[1.0...|\n",
      "|The Donald Trump-...|           Jeo Boden| a meme coin insp...| soared 20%. TRUM...| rallying nearly ...| even higher than...| according to Coi...| an increase of o...|[, according, to,...|(20,[2,4,6,8,9,12...|\n",
      "|Ripple CEO Brad G...| Garlinghouse sai...| Texas. He added ...| but in the end t...| and when asked i...| he won't answer ...| he insists that ...|         \"\" he said.|[, he, insists, t...|(20,[0,1,3,4,11,1...|\n",
      "|24687148328551678...|          TechCrunch|            Business|Hackers steal $30...|https://finance.y...|Japanese crypto e...|Japanese crypto e...|                null|[japanese, crypto...|(20,[0,1,2,3,4,6,...|\n",
      "|19679454027277473...|            Benzinga|            Business|Here's How Much $...|https://finance.y...|Over the past sev...|Here's How Much $...|                null|[here's, how, muc...|(20,[1,3,4,5,7,8,...|\n",
      "|  If you invested $1|000 in DOGE at th...| your investment ...|793.47. Additionally|  if you invested $1|000 in December 2020|  you would have $35|             752.89.|[, you, would, ha...|(20,[11,12,18,19]...|\n",
      "| An investment of $1|000 into SHIB at ...|528.08. Additionally|                  $1|000 invested in D...|                 890|             756.30!|                null|           [756.30!]|      (20,[2],[1.0])|\n",
      "|               If $1|000 were invested...| it would be wort...|662.39. Additionally|                  $1|000 invested in D...|             788.11.|                null|           [788.11.]|      (20,[3],[1.0])|\n",
      "+--------------------+--------------------+--------------------+--------------------+--------------------+--------------------+--------------------+--------------------+--------------------+--------------------+\n",
      "only showing top 20 rows"
     ]
    }
   ],
   "source": [
    "hashingTF = HashingTF(inputCol=\"words\", outputCol=\"rawFeatures\", numFeatures=20)\n",
    "featurizedData = hashingTF.transform(wordsData)\n",
    "featurizedData.show()"
   ]
  },
  {
   "cell_type": "code",
   "execution_count": 11,
   "id": "46ffe2ee-539e-4a38-965e-7865102ee79a",
   "metadata": {
    "execution": {
     "iopub.execute_input": "2024-07-30T00:55:33.217979Z",
     "iopub.status.busy": "2024-07-30T00:55:33.217514Z",
     "iopub.status.idle": "2024-07-30T00:55:38.773752Z",
     "shell.execute_reply": "2024-07-30T00:55:38.773004Z",
     "shell.execute_reply.started": "2024-07-30T00:55:33.217946Z"
    }
   },
   "outputs": [
    {
     "data": {
      "application/vnd.jupyter.widget-view+json": {
       "model_id": "afd1da84273e407bb5d1c30b2e57a108",
       "version_major": 2,
       "version_minor": 0
      },
      "text/plain": [
       "VBox()"
      ]
     },
     "metadata": {},
     "output_type": "display_data"
    },
    {
     "data": {
      "application/vnd.jupyter.widget-view+json": {
       "model_id": "",
       "version_major": 2,
       "version_minor": 0
      },
      "text/plain": [
       "FloatProgress(value=0.0, bar_style='info', description='Progress:', layout=Layout(height='25px', width='50%'),…"
      ]
     },
     "metadata": {},
     "output_type": "display_data"
    }
   ],
   "source": [
    "idf = IDF(inputCol=\"rawFeatures\", outputCol=\"features\")\n",
    "idfModel = idf.fit(featurizedData)\n",
    "rescaledData = idfModel.transform(featurizedData)"
   ]
  },
  {
   "cell_type": "code",
   "execution_count": 12,
   "id": "973a38c8-d2db-434a-8f84-b0c7dac184cf",
   "metadata": {
    "execution": {
     "iopub.execute_input": "2024-07-30T00:55:49.650932Z",
     "iopub.status.busy": "2024-07-30T00:55:49.650511Z",
     "iopub.status.idle": "2024-07-30T00:55:52.161330Z",
     "shell.execute_reply": "2024-07-30T00:55:52.160678Z",
     "shell.execute_reply.started": "2024-07-30T00:55:49.650898Z"
    }
   },
   "outputs": [
    {
     "data": {
      "application/vnd.jupyter.widget-view+json": {
       "model_id": "6f8b800c5bfc4ab480a9f5cd7c6bf534",
       "version_major": 2,
       "version_minor": 0
      },
      "text/plain": [
       "VBox()"
      ]
     },
     "metadata": {},
     "output_type": "display_data"
    },
    {
     "data": {
      "application/vnd.jupyter.widget-view+json": {
       "model_id": "",
       "version_major": 2,
       "version_minor": 0
      },
      "text/plain": [
       "FloatProgress(value=0.0, bar_style='info', description='Progress:', layout=Layout(height='25px', width='50%'),…"
      ]
     },
     "metadata": {},
     "output_type": "display_data"
    },
    {
     "name": "stdout",
     "output_type": "stream",
     "text": [
      "+--------------------+--------------------+--------------------+--------------------+--------------------+--------------------+--------------------+--------------------+--------------------+--------------------+--------------------+\n",
      "|                  id|              source|            category|            headline|                href|             summary|             content|            datetime|               words|         rawFeatures|            features|\n",
      "+--------------------+--------------------+--------------------+--------------------+--------------------+--------------------+--------------------+--------------------+--------------------+--------------------+--------------------+\n",
      "|14506777316744071...|            CoinDesk|            Business|Bitcoin Breaks to...|https://finance.y...|The price action ...|The price of bitc...|                null|[the, price, of, ...|(20,[0,1,3,4,5,6,...|(20,[0,1,3,4,5,6,...|\n",
      "|91528743924387766...|       CoinMarketCap|            Business|Bitcoin Struggles...|https://finance.y...|Bitcoin (BTC) is ...|Bitcoin Struggles...|                null|[bitcoin, struggl...|(20,[4,7,8,11,12,...|(20,[4,7,8,11,12,...|\n",
      "|Bitcoin (BTC) is ...|000 mark since br...| and has traded b...|430 as traders br...| grinding against...|000 have undersco...| who have found i...|                null|[, who, have, fou...|(20,[1,5,6,8,10,1...|(20,[1,5,6,8,10,1...|\n",
      "|Popular trader Sk...|                 000| bulls have strug...|000. Skew also po...|\"\" as indicated b...| suggesting that ...|000. He added tha...| with limited spo...|[000., he, added,...|(20,[0,3,4,6,9,11...|(20,[0,3,4,6,9,11...|\n",
      "|17645796751314710...|            CoinDesk|            Business|Bitcoin's Short T...|https://finance.y...|The 50-day simple...|Technical indicat...|                null|[technical, indic...|(20,[0,2,4,6,10,1...|(20,[0,2,4,6,10,1...|\n",
      "|21262589382166068...|             Reuters|            Business|Crypto 're-stakin...|https://finance.y...|More than $18 bil...|By Elizabeth Howc...|                null|[by, elizabeth, h...|(20,[1,13,19],[1....|(20,[1,13,19],[0....|\n",
      "|82161753679037556...|            CoinDesk|            Politics|Crypto Bettors La...|https://finance.y...|Gamblers have pla...|Crypto punters on...|                null|[crypto, punters,...|(20,[0,3,6,7,8,9,...|(20,[0,3,6,7,8,9,...|\n",
      "|33484450343124945...|       CoinMarketCap|            Business|Crypto Fraud and ...|https://finance.y...|Funds lost to cry...|Crypto Fraud and ...|                null|[crypto, fraud, a...|(20,[0,1,3,4,8,9,...|(20,[0,1,3,4,8,9,...|\n",
      "|27556917198641401...|             Fortune|            Politics|Donald Trump’s la...|https://finance.y...|Newly convicted f...|\"Newly convicted ...| Bloomberg report...|[\"newly, convicte...|(20,[0,1,2,3,4,5,...|(20,[0,1,2,3,4,5,...|\n",
      "|Dialogue between ...| with the Trump c...| according to Blo...|        a Trump ally| fellow entrepreneur| and failed 2024 ...| is a close frien...| the Wall Street ...|[, is, a, close, ...|(20,[0,1,3,4,5,7,...|(20,[0,1,3,4,5,7,...|\n",
      "|When Musk talks c...| people listen. O...| his posts on X h...| such when he sha...|              Marvin|     on his birthday| causing the pric...| according to Coi...|[, causing, the, ...|(20,[1,3,7,8,12,1...|(20,[1,3,7,8,12,1...|\n",
      "|             However| the moment news ...| the price of the...|   trading at $11.41| according to Coi...|       shortly after| it soared to an ...| as of 7:30 p.m. ...|[, it, soared, to...|(20,[2,6,8,10,12,...|(20,[2,6,8,10,12,...|\n",
      "|22764438409254762...|            CoinDesk|            Business|First Mover Ameri...|https://finance.y...|The latest price ...|    In This Article:|                null|[in, this, article:]|(20,[0,3,13],[1.0...|(20,[0,3,13],[0.4...|\n",
      "|The Donald Trump-...|           Jeo Boden| a meme coin insp...| soared 20%. TRUM...| rallying nearly ...| even higher than...| according to Coi...| an increase of o...|[, according, to,...|(20,[2,4,6,8,9,12...|(20,[2,4,6,8,9,12...|\n",
      "|Ripple CEO Brad G...| Garlinghouse sai...| Texas. He added ...| but in the end t...| and when asked i...| he won't answer ...| he insists that ...|         \"\" he said.|[, he, insists, t...|(20,[0,1,3,4,11,1...|(20,[0,1,3,4,11,1...|\n",
      "|24687148328551678...|          TechCrunch|            Business|Hackers steal $30...|https://finance.y...|Japanese crypto e...|Japanese crypto e...|                null|[japanese, crypto...|(20,[0,1,2,3,4,6,...|(20,[0,1,2,3,4,6,...|\n",
      "|19679454027277473...|            Benzinga|            Business|Here's How Much $...|https://finance.y...|Over the past sev...|Here's How Much $...|                null|[here's, how, muc...|(20,[1,3,4,5,7,8,...|(20,[1,3,4,5,7,8,...|\n",
      "|  If you invested $1|000 in DOGE at th...| your investment ...|793.47. Additionally|  if you invested $1|000 in December 2020|  you would have $35|             752.89.|[, you, would, ha...|(20,[11,12,18,19]...|(20,[11,12,18,19]...|\n",
      "| An investment of $1|000 into SHIB at ...|528.08. Additionally|                  $1|000 invested in D...|                 890|             756.30!|                null|           [756.30!]|      (20,[2],[1.0])|(20,[2],[1.236762...|\n",
      "|               If $1|000 were invested...| it would be wort...|662.39. Additionally|                  $1|000 invested in D...|             788.11.|                null|           [788.11.]|      (20,[3],[1.0])|(20,[3],[0.543615...|\n",
      "+--------------------+--------------------+--------------------+--------------------+--------------------+--------------------+--------------------+--------------------+--------------------+--------------------+--------------------+\n",
      "only showing top 20 rows"
     ]
    }
   ],
   "source": [
    "rescaledData.show()"
   ]
  },
  {
   "cell_type": "code",
   "execution_count": 30,
   "id": "c004eb8e-a265-49f5-9788-78bf3caf3cfb",
   "metadata": {
    "execution": {
     "iopub.execute_input": "2024-07-30T01:12:14.931370Z",
     "iopub.status.busy": "2024-07-30T01:12:14.930932Z",
     "iopub.status.idle": "2024-07-30T01:12:15.872314Z",
     "shell.execute_reply": "2024-07-30T01:12:15.871648Z",
     "shell.execute_reply.started": "2024-07-30T01:12:14.931340Z"
    },
    "tags": []
   },
   "outputs": [
    {
     "data": {
      "application/vnd.jupyter.widget-view+json": {
       "model_id": "0941a443c8394dadb0cfced67c301ead",
       "version_major": 2,
       "version_minor": 0
      },
      "text/plain": [
       "VBox()"
      ]
     },
     "metadata": {},
     "output_type": "display_data"
    },
    {
     "data": {
      "application/vnd.jupyter.widget-view+json": {
       "model_id": "",
       "version_major": 2,
       "version_minor": 0
      },
      "text/plain": [
       "FloatProgress(value=0.0, bar_style='info', description='Progress:', layout=Layout(height='25px', width='50%'),…"
      ]
     },
     "metadata": {},
     "output_type": "display_data"
    },
    {
     "name": "stdout",
     "output_type": "stream",
     "text": [
      "+---------+\n",
      "|    words|\n",
      "+---------+\n",
      "|[bitcoin]|\n",
      "+---------+\n",
      "\n",
      "+---------+---------------+\n",
      "|    words|    rawFeatures|\n",
      "+---------+---------------+\n",
      "|[bitcoin]|(20,[18],[1.0])|\n",
      "+---------+---------------+\n",
      "\n",
      "[Row(rawFeatures=SparseVector(20, {18: 1.0}))]\n",
      "18"
     ]
    }
   ],
   "source": [
    "from pyspark.sql.types import *\n",
    "\n",
    "schema = StructType([StructField('words', ArrayType(StringType()))])\n",
    "\n",
    "df = spark.createDataFrame(([[[\"bitcoin\"]]]), schema).toDF(\"words\")\n",
    "df.show()\n",
    "\n",
    "bitcoin = hashingTF.transform(df)\n",
    "bitcoin.show()\n",
    "\n",
    "featureVec = bitcoin.select('rawFeatures').collect()\n",
    "print(featureVec)\n",
    "\n",
    "bitcoinID = int(featureVec[0].rawFeatures.indices[0])\n",
    "print(bitcoinID)"
   ]
  },
  {
   "cell_type": "code",
   "execution_count": 32,
   "id": "f2fea0db-0dec-42fc-a6c5-4cd11476f386",
   "metadata": {
    "execution": {
     "iopub.execute_input": "2024-07-30T01:15:09.395974Z",
     "iopub.status.busy": "2024-07-30T01:15:09.395530Z",
     "iopub.status.idle": "2024-07-30T01:15:11.866517Z",
     "shell.execute_reply": "2024-07-30T01:15:11.865869Z",
     "shell.execute_reply.started": "2024-07-30T01:15:09.395941Z"
    },
    "tags": []
   },
   "outputs": [
    {
     "data": {
      "application/vnd.jupyter.widget-view+json": {
       "model_id": "32c579ea41c94fa4b20260e1806945fc",
       "version_major": 2,
       "version_minor": 0
      },
      "text/plain": [
       "VBox()"
      ]
     },
     "metadata": {},
     "output_type": "display_data"
    },
    {
     "data": {
      "application/vnd.jupyter.widget-view+json": {
       "model_id": "",
       "version_major": 2,
       "version_minor": 0
      },
      "text/plain": [
       "FloatProgress(value=0.0, bar_style='info', description='Progress:', layout=Layout(height='25px', width='50%'),…"
      ]
     },
     "metadata": {},
     "output_type": "display_data"
    },
    {
     "name": "stdout",
     "output_type": "stream",
     "text": [
      "+--------------------+--------------------+--------------------+--------------------+--------------------+--------------------+--------------------+--------------------+--------------------+--------------------+--------------------+---------+\n",
      "|                  id|              source|            category|            headline|                href|             summary|             content|            datetime|               words|         rawFeatures|            features|    score|\n",
      "+--------------------+--------------------+--------------------+--------------------+--------------------+--------------------+--------------------+--------------------+--------------------+--------------------+--------------------+---------+\n",
      "|14506777316744071...|            CoinDesk|            Business|Bitcoin Breaks to...|https://finance.y...|The price action ...|The price of bitc...|                null|[the, price, of, ...|(20,[0,1,3,4,5,6,...|(20,[0,1,3,4,5,6,...|2.4030955|\n",
      "|91528743924387766...|       CoinMarketCap|            Business|Bitcoin Struggles...|https://finance.y...|Bitcoin (BTC) is ...|Bitcoin Struggles...|                null|[bitcoin, struggl...|(20,[4,7,8,11,12,...|(20,[4,7,8,11,12,...|0.6007739|\n",
      "|Bitcoin (BTC) is ...|000 mark since br...| and has traded b...|430 as traders br...| grinding against...|000 have undersco...| who have found i...|                null|[, who, have, fou...|(20,[1,5,6,8,10,1...|(20,[1,5,6,8,10,1...|1.2015477|\n",
      "|Popular trader Sk...|                 000| bulls have strug...|000. Skew also po...|\"\" as indicated b...| suggesting that ...|000. He added tha...| with limited spo...|[000., he, added,...|(20,[0,3,4,6,9,11...|(20,[0,3,4,6,9,11...|0.6007739|\n",
      "|17645796751314710...|            CoinDesk|            Business|Bitcoin's Short T...|https://finance.y...|The 50-day simple...|Technical indicat...|                null|[technical, indic...|(20,[0,2,4,6,10,1...|(20,[0,2,4,6,10,1...|      0.0|\n",
      "|21262589382166068...|             Reuters|            Business|Crypto 're-stakin...|https://finance.y...|More than $18 bil...|By Elizabeth Howc...|                null|[by, elizabeth, h...|(20,[1,13,19],[1....|(20,[1,13,19],[0....|      0.0|\n",
      "|82161753679037556...|            CoinDesk|            Politics|Crypto Bettors La...|https://finance.y...|Gamblers have pla...|Crypto punters on...|                null|[crypto, punters,...|(20,[0,3,6,7,8,9,...|(20,[0,3,6,7,8,9,...|1.2015477|\n",
      "|33484450343124945...|       CoinMarketCap|            Business|Crypto Fraud and ...|https://finance.y...|Funds lost to cry...|Crypto Fraud and ...|                null|[crypto, fraud, a...|(20,[0,1,3,4,8,9,...|(20,[0,1,3,4,8,9,...|1.2015477|\n",
      "|27556917198641401...|             Fortune|            Politics|Donald Trump’s la...|https://finance.y...|Newly convicted f...|\"Newly convicted ...| Bloomberg report...|[\"newly, convicte...|(20,[0,1,2,3,4,5,...|(20,[0,1,2,3,4,5,...|1.8023216|\n",
      "|Dialogue between ...| with the Trump c...| according to Blo...|        a Trump ally| fellow entrepreneur| and failed 2024 ...| is a close frien...| the Wall Street ...|[, is, a, close, ...|(20,[0,1,3,4,5,7,...|(20,[0,1,3,4,5,7,...|1.2015477|\n",
      "|When Musk talks c...| people listen. O...| his posts on X h...| such when he sha...|              Marvin|     on his birthday| causing the pric...| according to Coi...|[, causing, the, ...|(20,[1,3,7,8,12,1...|(20,[1,3,7,8,12,1...|0.6007739|\n",
      "|             However| the moment news ...| the price of the...|   trading at $11.41| according to Coi...|       shortly after| it soared to an ...| as of 7:30 p.m. ...|[, it, soared, to...|(20,[2,6,8,10,12,...|(20,[2,6,8,10,12,...|      0.0|\n",
      "|22764438409254762...|            CoinDesk|            Business|First Mover Ameri...|https://finance.y...|The latest price ...|    In This Article:|                null|[in, this, article:]|(20,[0,3,13],[1.0...|(20,[0,3,13],[0.4...|      0.0|\n",
      "|The Donald Trump-...|           Jeo Boden| a meme coin insp...| soared 20%. TRUM...| rallying nearly ...| even higher than...| according to Coi...| an increase of o...|[, according, to,...|(20,[2,4,6,8,9,12...|(20,[2,4,6,8,9,12...|      0.0|\n",
      "|Ripple CEO Brad G...| Garlinghouse sai...| Texas. He added ...| but in the end t...| and when asked i...| he won't answer ...| he insists that ...|         \"\" he said.|[, he, insists, t...|(20,[0,1,3,4,11,1...|(20,[0,1,3,4,11,1...|0.6007739|\n",
      "|24687148328551678...|          TechCrunch|            Business|Hackers steal $30...|https://finance.y...|Japanese crypto e...|Japanese crypto e...|                null|[japanese, crypto...|(20,[0,1,2,3,4,6,...|(20,[0,1,2,3,4,6,...|1.2015477|\n",
      "|19679454027277473...|            Benzinga|            Business|Here's How Much $...|https://finance.y...|Over the past sev...|Here's How Much $...|                null|[here's, how, muc...|(20,[1,3,4,5,7,8,...|(20,[1,3,4,5,7,8,...|0.6007739|\n",
      "|  If you invested $1|000 in DOGE at th...| your investment ...|793.47. Additionally|  if you invested $1|000 in December 2020|  you would have $35|             752.89.|[, you, would, ha...|(20,[11,12,18,19]...|(20,[11,12,18,19]...|0.6007739|\n",
      "| An investment of $1|000 into SHIB at ...|528.08. Additionally|                  $1|000 invested in D...|                 890|             756.30!|                null|           [756.30!]|      (20,[2],[1.0])|(20,[2],[1.236762...|      0.0|\n",
      "|               If $1|000 were invested...| it would be wort...|662.39. Additionally|                  $1|000 invested in D...|             788.11.|                null|           [788.11.]|      (20,[3],[1.0])|(20,[3],[0.543615...|      0.0|\n",
      "+--------------------+--------------------+--------------------+--------------------+--------------------+--------------------+--------------------+--------------------+--------------------+--------------------+--------------------+---------+\n",
      "only showing top 20 rows"
     ]
    }
   ],
   "source": [
    "from pyspark.sql.types import FloatType\n",
    "from pyspark.sql.functions import udf\n",
    "\n",
    "termExtractor = udf(lambda x: float(x[bitcoinID]), FloatType())\n",
    "bitcoinDF = rescaledData.withColumn('score', termExtractor(rescaledData.features))\n",
    "\n",
    "bitcoinDF.show()"
   ]
  },
  {
   "cell_type": "code",
   "execution_count": 35,
   "id": "99b669f9-72c0-4e2e-a257-d7857819a88f",
   "metadata": {
    "execution": {
     "iopub.execute_input": "2024-07-30T01:20:55.858925Z",
     "iopub.status.busy": "2024-07-30T01:20:55.858483Z",
     "iopub.status.idle": "2024-07-30T01:20:56.794965Z",
     "shell.execute_reply": "2024-07-30T01:20:56.794232Z",
     "shell.execute_reply.started": "2024-07-30T01:20:55.858897Z"
    },
    "tags": []
   },
   "outputs": [
    {
     "data": {
      "application/vnd.jupyter.widget-view+json": {
       "model_id": "b58a9c0e3e824e4199fca9852ae9693e",
       "version_major": 2,
       "version_minor": 0
      },
      "text/plain": [
       "VBox()"
      ]
     },
     "metadata": {},
     "output_type": "display_data"
    },
    {
     "data": {
      "application/vnd.jupyter.widget-view+json": {
       "model_id": "",
       "version_major": 2,
       "version_minor": 0
      },
      "text/plain": [
       "FloatProgress(value=0.0, bar_style='info', description='Progress:', layout=Layout(height='25px', width='50%'),…"
      ]
     },
     "metadata": {},
     "output_type": "display_data"
    },
    {
     "name": "stdout",
     "output_type": "stream",
     "text": [
      "+----------------------------------------------------------------------------------------------------+----------------------------------------------------------------------------------------------------+---------+\n",
      "|                                                                                            headline|                                                                                             content|    score|\n",
      "+----------------------------------------------------------------------------------------------------+----------------------------------------------------------------------------------------------------+---------+\n",
      "|                    Bitcoin Breaks to Low End of Trading Range, but June Data Could Be Next Catalyst|The price of bitcoin {{BTC}} has traded in an exceptionally tight trading range surrounding $68,0...|2.4030955|\n",
      "|         Donald Trump’s latest appeal to pro-crypto voters includes asking Elon Musk for policy tips|\"Newly convicted felon Donald Trump has been ramping up a pro-crypto stance in recent weeks as pa...|1.8023216|\n",
      "|430 as traders braced themselves for a significant macroeconomic data release. Bitcoin's price ac...|                 who have found it difficult to push the price back up to overhead resistance zones.|1.2015477|\n",
      "|                             Crypto Bettors Lay 17% Odds on Donald Trump in Jail Before Election Day|Crypto punters on Polymarket give Donald Trump a 17% chance of going to jail before the November ...|1.2015477|\n",
      "|                              Crypto Fraud and Hack Losses Drop by 12% in May, According to Immunefi|                              Crypto Fraud and Hack Losses Drop by 12% in May, According to Immunefi|1.2015477|\n",
      "|                                                                                        a Trump ally| is a close friend of Musk and reportedly mediating the discussions. The liaising on crypto fits ...|1.2015477|\n",
      "|                                                Hackers steal $305M from DMM Bitcoin crypto exchange|Japanese crypto exchange DMM Bitcoin confirmed on Friday that it had been the victim of a hack re...|1.2015477|\n",
      "|Single mom of 3 says she lost life savings to Tinder crypto scammer — 3 risk-free ways to buy dig...|Single mom of 3 says she lost life savings to Tinder crypto scammer — 3 risk-free ways to buy dig...|1.2015477|\n",
      "|                         Wall Street Asks Biden Not to Veto Congress' Rejection of SEC Crypto Policy|The groups that lobby for big-bank interests in Washington asked the White House to step back fro...|1.2015477|\n",
      "|                                  Bitcoin Struggles Below $70,000 Ahead of Key Economic Data Release|                                  Bitcoin Struggles Below $70,000 Ahead of Key Economic Data Release|0.6007739|\n",
      "|                                                      000. Skew also pointed out a \"\"waning momentum|                   000. He added that recent price movements saw sellers taking advantage of bounces|0.6007739|\n",
      "|                                                             such when he shared an image of his dog|                                   causing the price of the memecoin Marvin Inu to soar by over 400%|0.6007739|\n",
      "| but in the end these will be \"\"speed bumps.\"\" Garlinghouse also took a swipe at the SEC for its ...|                                    he insists that the rules are very clear and don't need updating|0.6007739|\n",
      "|Here's How Much $1,000 Invested In These Best Performing Cryptos Is Worth Today: Dogecoin, Shiba ...|Here's How Much $1,000 Invested In These Best Performing Cryptos Is Worth Today: Dogecoin, Shiba ...|0.6007739|\n",
      "|                                                                                793.47. Additionally|                                                                                  you would have $35|0.6007739|\n",
      "|                                                                                   you would have $1|                                                                           445.20 if you invested $1|0.6007739|\n",
      "+----------------------------------------------------------------------------------------------------+----------------------------------------------------------------------------------------------------+---------+"
     ]
    }
   ],
   "source": [
    "sortedResults = bitcoinDF.filter(\"score > 0\").orderBy('score', ascending=False).select('headline', 'content','score')\n",
    "sortedResults.show(truncate=100)"
   ]
  },
  {
   "cell_type": "code",
   "execution_count": null,
   "id": "f187178d-7396-41d9-bd92-8bcff6f92c28",
   "metadata": {},
   "outputs": [],
   "source": []
  }
 ],
 "metadata": {
  "kernelspec": {
   "display_name": "PySpark",
   "language": "python",
   "name": "spark_magic_pyspark"
  },
  "language_info": {
   "codemirror_mode": {
    "name": "python",
    "version": 3
   },
   "file_extension": ".py",
   "mimetype": "text/x-python",
   "name": "pyspark",
   "pygments_lexer": "python3"
  }
 },
 "nbformat": 4,
 "nbformat_minor": 5
}
